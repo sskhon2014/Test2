{
 "cells": [
  {
   "cell_type": "code",
   "execution_count": 1,
   "metadata": {},
   "outputs": [],
   "source": [
    "import numpy as np\n",
    "from datascience import *\n",
    "import matplotlib\n",
    "%matplotlib inline\n",
    "import matplotlib.pyplot as plt\n",
    "plt.style.use('fivethirtyeight')\n",
    "import warnings\n",
    "warnings.simplefilter('ignore', FutureWarning)\n",
    "\n",
    "import numpy as np\n",
    "from scipy import stats\n",
    "import subprocess\n",
    "import pandas as pd\n",
    "import time\n",
    "from tqdm import tqdm\n",
    "\n",
    "import requests\n",
    "from lxml import etree\n",
    "from lxml.etree import fromstring\n",
    "\n",
    "def get_sequence(chrom,start, stop):\n",
    "\n",
    "    req = requests.get((\"http://genome.ucsc.edu/cgi-bin/das/mm10/dna?segment=\" + chrom + \":\" + str(int(start)) + \",\" + str(int(stop))), stream=True)\n",
    "    req.raw.decode_content = True  # ensure transfer encoding is honoured\n",
    "    b = etree.parse(req.raw)\n",
    "    return \"\".join([i[1:] for i in str(etree.tostring(b)).split(\"length\")[1].split(\"\\\\n</DNA>\\\\\")[0].split(\">\")[1].split(\"\\\\\")[1:]])\n"
   ]
  },
  {
   "cell_type": "code",
   "execution_count": 2,
   "metadata": {},
   "outputs": [
    {
     "data": {
      "text/html": [
       "<table border=\"1\" class=\"dataframe\">\n",
       "    <thead>\n",
       "        <tr>\n",
       "            <th>chrom</th> <th>chromStart</th> <th>chromEnd</th> <th>name</th> <th>strand</th> <th>differential binding (unitless)</th>\n",
       "        </tr>\n",
       "    </thead>\n",
       "    <tbody>\n",
       "        <tr>\n",
       "            <td>chr12</td> <td>8.58156e+07</td> <td>8.58156e+07</td> <td>0610007P14Rik</td> <td>-     </td> <td>62.2749                        </td>\n",
       "        </tr>\n",
       "        <tr>\n",
       "            <td>chr12</td> <td>8.58157e+07</td> <td>8.58157e+07</td> <td>0610007P14Rik</td> <td>-     </td> <td>62.5928                        </td>\n",
       "        </tr>\n",
       "        <tr>\n",
       "            <td>chr12</td> <td>8.58158e+07</td> <td>8.58158e+07</td> <td>0610007P14Rik</td> <td>-     </td> <td>86.8699                        </td>\n",
       "        </tr>\n",
       "        <tr>\n",
       "            <td>chr12</td> <td>8.5816e+07 </td> <td>8.5816e+07 </td> <td>0610007P14Rik</td> <td>-     </td> <td>29.1225                        </td>\n",
       "        </tr>\n",
       "        <tr>\n",
       "            <td>chr11</td> <td>5.16855e+07</td> <td>5.16856e+07</td> <td>0610009B22Rik</td> <td>-     </td> <td>59.7131                        </td>\n",
       "        </tr>\n",
       "        <tr>\n",
       "            <td>chr11</td> <td>5.16856e+07</td> <td>5.16856e+07</td> <td>0610009B22Rik</td> <td>-     </td> <td>56.1821                        </td>\n",
       "        </tr>\n",
       "        <tr>\n",
       "            <td>chr18</td> <td>3.82619e+07</td> <td>3.8262e+07 </td> <td>0610009O20Rik</td> <td>+     </td> <td>18.1918                        </td>\n",
       "        </tr>\n",
       "        <tr>\n",
       "            <td>chr2 </td> <td>1.7662e+08 </td> <td>1.7662e+08 </td> <td>0610010B08Rik</td> <td>-     </td> <td>6.40211                        </td>\n",
       "        </tr>\n",
       "        <tr>\n",
       "            <td>chr2 </td> <td>1.7662e+08 </td> <td>1.7662e+08 </td> <td>0610010B08Rik</td> <td>-     </td> <td>34.2425                        </td>\n",
       "        </tr>\n",
       "        <tr>\n",
       "            <td>chr2 </td> <td>1.7662e+08 </td> <td>1.76621e+08</td> <td>0610010B08Rik</td> <td>-     </td> <td>106.135                        </td>\n",
       "        </tr>\n",
       "    </tbody>\n",
       "</table>\n",
       "<p>... (56146 rows omitted)</p>"
      ],
      "text/plain": [
       "chrom | chromStart  | chromEnd    | name          | strand | differential binding (unitless)\n",
       "chr12 | 8.58156e+07 | 8.58156e+07 | 0610007P14Rik | -      | 62.2749\n",
       "chr12 | 8.58157e+07 | 8.58157e+07 | 0610007P14Rik | -      | 62.5928\n",
       "chr12 | 8.58158e+07 | 8.58158e+07 | 0610007P14Rik | -      | 86.8699\n",
       "chr12 | 8.5816e+07  | 8.5816e+07  | 0610007P14Rik | -      | 29.1225\n",
       "chr11 | 5.16855e+07 | 5.16856e+07 | 0610009B22Rik | -      | 59.7131\n",
       "chr11 | 5.16856e+07 | 5.16856e+07 | 0610009B22Rik | -      | 56.1821\n",
       "chr18 | 3.82619e+07 | 3.8262e+07  | 0610009O20Rik | +      | 18.1918\n",
       "chr2  | 1.7662e+08  | 1.7662e+08  | 0610010B08Rik | -      | 6.40211\n",
       "chr2  | 1.7662e+08  | 1.7662e+08  | 0610010B08Rik | -      | 34.2425\n",
       "chr2  | 1.7662e+08  | 1.76621e+08 | 0610010B08Rik | -      | 106.135\n",
       "... (56146 rows omitted)"
      ]
     },
     "execution_count": 2,
     "metadata": {},
     "output_type": "execute_result"
    }
   ],
   "source": [
    "reads = Table.read_table(\"cond2_predictions.csv\")#.sort(5, descending=True)\n",
    "reads"
   ]
  },
  {
   "cell_type": "code",
   "execution_count": null,
   "metadata": {
    "scrolled": true
   },
   "outputs": [
    {
     "name": "stderr",
     "output_type": "stream",
     "text": [
      " 32%|███▏      | 18220/56156 [1:24:57<2:04:07,  5.09it/s] "
     ]
    }
   ],
   "source": [
    "reads = Table.read_table(\"cond2_predictions.csv\").sort(5, descending=True)\n",
    "\n",
    "sequences = make_array()\n",
    "\n",
    "for i in tqdm(np.arange(reads.num_rows)):\n",
    "    chrom = reads.column(\"chrom\").item(i)\n",
    "    start = reads.column(\"chromStart\").item(i)\n",
    "    stop = reads.column(\"chromEnd\").item(i)\n",
    "    sequence = get_sequence(chrom,start, stop)\n",
    "    sequences = np.append(sequences, sequence)"
   ]
  },
  {
   "cell_type": "code",
   "execution_count": null,
   "metadata": {},
   "outputs": [],
   "source": [
    "sequences = [i.replace(\"t\", \"u\") for i in sequences]\n",
    "reads = reads.with_column(\"RNA sequences\", sequences)\n",
    "reads.with_column(\"Seed Sequence?\", [(\"ugcauuaa\" in i) for i in reads.column(\"RNA sequences\")]).where(\"Seed Sequence?\", True).to_csv(\"test.csv\")#.group(\"Seed Sequence?\")"
   ]
  },
  {
   "cell_type": "code",
   "execution_count": null,
   "metadata": {},
   "outputs": [],
   "source": [
    "chrom = \"chr5\"\n",
    "start = 142903034\n",
    "stop = 142903034 + 10\n",
    "get_sequence(chrom,start, stop)"
   ]
  },
  {
   "cell_type": "code",
   "execution_count": null,
   "metadata": {},
   "outputs": [],
   "source": [
    "reads.num_rows"
   ]
  },
  {
   "cell_type": "code",
   "execution_count": null,
   "metadata": {},
   "outputs": [],
   "source": [
    "5000 "
   ]
  },
  {
   "cell_type": "code",
   "execution_count": null,
   "metadata": {},
   "outputs": [],
   "source": []
  }
 ],
 "metadata": {
  "kernelspec": {
   "display_name": "Python 3",
   "language": "python",
   "name": "python3"
  },
  "language_info": {
   "codemirror_mode": {
    "name": "ipython",
    "version": 3
   },
   "file_extension": ".py",
   "mimetype": "text/x-python",
   "name": "python",
   "nbconvert_exporter": "python",
   "pygments_lexer": "ipython3",
   "version": "3.6.5"
  }
 },
 "nbformat": 4,
 "nbformat_minor": 2
}
